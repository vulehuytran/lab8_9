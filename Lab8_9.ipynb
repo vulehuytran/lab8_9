{
 "cells": [
  {
   "cell_type": "markdown",
   "metadata": {},
   "source": [
    "## Lab 8\n",
    "\n",
    "### Locating the data:  \n",
    "\n",
    "### Running SPAdes:  \n",
    "**Why do we expect short reads to produce a more fragmented assembly than long reads?**  \n",
    "Because the DNA is cut at more points to renegate short reads compared to less points for long reads. However, short reads may be better because of low cost and huge number in a run.\n",
    "\n",
    "**Why does a single-molecule sequencing like PacBio have a higher error rate than Illumina?**  \n",
    "\n",
    "Open terminal  \n",
    "```screen``` to run on a screen  \n",
    "```cd /home/be131-35/Vu/Lab8``` to change to my directory  \n",
    "\n",
    "Run SPAdes:  \n",
    "```spades.py --careful -o /home/be131-35/Vu/Lab8/ -1 /data/lab8/illumina_reads_R1.fastq -2 /data/lab8/illumina_reads_R2.fastq --pacbio /data/lab8/pacbio_reads.fastq -t 1```  \n",
    "\n",
    "20918.pts-114.meowth"
   ]
  },
  {
   "cell_type": "markdown",
   "metadata": {},
   "source": [
    "## Lab 9:  \n",
    "\n",
    "### Generate assembly statistics:  \n",
    "\n",
    "Run in terminal:  \n",
    "```assembly-stats contigs.fasta```  \n",
    "stats for contigs.fasta  \n",
    "sum = 6668871, n = 179, ave = 37256.26, largest = 468307  \n",
    "N50 = 213892, n = 11  \n",
    "N60 = 195508, n = 14  \n",
    "N70 = 148554, n = 18  \n",
    "N80 = 103352, n = 23  \n",
    "N90 = 81820, n = 30  \n",
    "N100 = 128, n = 179  \n",
    "N_count = 0  \n",
    "Gaps = 0  \n",
    "\n",
    "```assembly-stats scaffolds.fasta```  \n",
    "stats for scaffolds.fasta  \n",
    "sum = 6672441, n = 173, ave = 38569.02, largest = 468307  \n",
    "N50 = 261858, n = 10  \n",
    "N60 = 253666, n = 12  \n",
    "N70 = 207869, n = 15  \n",
    "N80 = 124081, n = 20  \n",
    "N90 = 92098, n = 26  \n",
    "N100 = 128, n = 173  \n",
    "N_count = 144  \n",
    "Gaps = 7  \n",
    "\n",
    "**Why is N50 is useful statistic to calculate?**  \n",
    "Because it gives the sequence length of the shortest contig at 50% of the total genome length.  \n",
    "\n",
    "**Why not just list the mean or median contig length?**  \n",
    "Because N50 gives the weighted median statistic.  \n",
    "\n",
    "**In your assembly, are scaffolds longer than contigs, or are scaffolds approximately equal to contigs?**  \n",
    "Scaffolds are longer than cotigs.  "
   ]
  },
  {
   "cell_type": "markdown",
   "metadata": {},
   "source": [
    "### Identify the taxon from which your genome originated:  \n",
    "\n",
    "**1. Scan over the entire genome to locate copies of the 16S ribosomal RNA gene:**  \n",
    "```rna_hmm3.py -i /home/be131-35/Vu/Lab8/contigs.fasta -o /home/be131-35/Vu/Lab8/output_totalrrna.gff```  \n",
    "\n",
    "The output file contains all rRNA, so I duplicated the file and deleted all lines within other than those containing 16S_rRNA genes. I renamed the file as output_16srrna.gff  \n",
    "\n",
    "**2. Extract the 16S rRNA genesfrom your assembly:**  \n",
    "```bedtools getfasta -fi /home/be131-35/Vu/Lab8/contigs.fasta -bed /home/be131-35/Vu/Lab8/output_16srrna.gff -fo /home/be131-35/Vu/Lab8/16srrna.fasta```  \n",
    "\n",
    "**3. Compare these genes to a database of known 16S rRNA genes:**  \n",
    "Results from ibosomal Database Project’s SeqMatch tool:  \n",
    "![NODE_1](https://ibb.co/nAOffq)  \n",
    "\n",
    "![NODE_3](https://ibb.co/d2m0fq)  \n",
    "\n",
    "![NODE_14](https://ibb.co/nBEaDA)  \n",
    "\n",
    "![NODE_23](https://ibb.co/iihTYA)  \n",
    "\n",
    "![NODE_34](https://ibb.co/hLLt0q)  \n",
    "\n",
    "Based on the results, the genus is *Pseudomonas*.  "
   ]
  },
  {
   "cell_type": "markdown",
   "metadata": {},
   "source": [
    "### Genome annotation:  \n",
    "\n",
    "BASys:  \n",
    "RAST:  "
   ]
  },
  {
   "cell_type": "markdown",
   "metadata": {},
   "source": [
    "### Research and write-up:  \n",
    "\n"
   ]
  }
 ],
 "metadata": {
  "kernelspec": {
   "display_name": "Python 3",
   "language": "python",
   "name": "python3"
  },
  "language_info": {
   "codemirror_mode": {
    "name": "ipython",
    "version": 3
   },
   "file_extension": ".py",
   "mimetype": "text/x-python",
   "name": "python",
   "nbconvert_exporter": "python",
   "pygments_lexer": "ipython3",
   "version": "3.6.6"
  }
 },
 "nbformat": 4,
 "nbformat_minor": 2
}
