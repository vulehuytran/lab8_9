{
 "cells": [
  {
   "cell_type": "markdown",
   "metadata": {},
   "source": [
    "## Lab 8\n",
    "\n",
    "### Locating the data:  \n",
    "\n",
    "### Running SPAdes:  \n",
    "**Why do we expect short reads to produce a more fragmented assembly than long reads?**  \n",
    "Because the DNA is cut at more points to renegate short reads compared to less points for long reads. However, short reads may be better because of low cost and huge number in a run.\n",
    "\n",
    "**Why does a single-molecule sequencing like PacBio have a higher error rate than Illumina?**  \n",
    "\n",
    "Open terminal  \n",
    "```screen``` to run on a screen  \n",
    "```cd /home/be131-35/Vu/Lab8``` to change to my directory  \n",
    "\n",
    "Run SPAdes:  \n",
    "```spades.py --careful -o /home/be131-35/Vu/Lab8/ -1 /data/lab8/illumina_reads_R1.fastq -2 /data/lab8/illumina_reads_R2.fastq --pacbio /data/lab8/pacbio_reads.fastq -t 1```  \n",
    "\n",
    "20918.pts-114.meowth"
   ]
  },
  {
   "cell_type": "markdown",
   "metadata": {},
   "source": [
    "## Lab 9:  \n",
    "\n",
    "### Generate assembly statistics:  \n",
    "\n",
    "Run in terminal:  \n",
    "```assembly-stats contigs.fasta```  \n",
    "stats for contigs.fasta  \n",
    "sum = 6668871, n = 179, ave = 37256.26, largest = 468307  \n",
    "N50 = 213892, n = 11  \n",
    "N60 = 195508, n = 14  \n",
    "N70 = 148554, n = 18  \n",
    "N80 = 103352, n = 23  \n",
    "N90 = 81820, n = 30  \n",
    "N100 = 128, n = 179  \n",
    "N_count = 0  \n",
    "Gaps = 0  \n",
    "\n",
    "```assembly-stats scaffolds.fasta```  \n",
    "stats for scaffolds.fasta  \n",
    "sum = 6672441, n = 173, ave = 38569.02, largest = 468307  \n",
    "N50 = 261858, n = 10  \n",
    "N60 = 253666, n = 12  \n",
    "N70 = 207869, n = 15  \n",
    "N80 = 124081, n = 20  \n",
    "N90 = 92098, n = 26  \n",
    "N100 = 128, n = 173  \n",
    "N_count = 144  \n",
    "Gaps = 7  \n",
    "\n",
    "**Why is N50 is useful statistic to calculate?**  \n",
    "Because it gives the sequence length of the shortest contig at 50% of the total genome length.  \n",
    "\n",
    "**Why not just list the mean or median contig length?**  \n",
    "Because N50 gives the weighted median statistic.  \n",
    "\n",
    "**In your assembly, are scaffolds longer than contigs, or are scaffolds approximately equal to contigs?**  \n",
    "Scaffolds are longer than cotigs.  "
   ]
  },
  {
   "cell_type": "markdown",
   "metadata": {},
   "source": [
    "### Identify the taxon from which your genome originated:  \n",
    "\n",
    "**1. Scan over the entire genome to locate copies of the 16S ribosomal RNA gene:**  \n",
    "```rna_hmm3.py -i /home/be131-35/Vu/Lab8/contigs.fasta -o /home/be131-35/Vu/Lab8/output_totalrrna.gff```  \n",
    "\n",
    "The output file contains all rRNA, so I duplicated the file and deleted all lines within other than those containing 16S_rRNA genes. I renamed the file as output_16srrna.gff  \n",
    "\n",
    "**2. Extract the 16S rRNA genesfrom your assembly:**  \n",
    "```bedtools getfasta -fi /home/be131-35/Vu/Lab8/contigs.fasta -bed /home/be131-35/Vu/Lab8/output_16srrna.gff -fo /home/be131-35/Vu/Lab8/16srrna.fasta```  \n",
    "\n",
    "**3. Compare these genes to a database of known 16S rRNA genes:**  \n",
    "Results from ibosomal Database Project’s SeqMatch tool:  \n",
    "![NODE_1](https://image.ibb.co/dvpLfq/NODE-1.png)  \n",
    "![NODE_3](https://image.ibb.co/bUARLq/NODE-3.png)  \n",
    "![NODE_14](https://image.ibb.co/bFNj6V/NODE-14.png)  \n",
    "![NODE_23](https://image.ibb.co/jO10fq/NODE-23.png)  \n",
    "![NODE_34](https://image.ibb.co/bQPaDA/NODE-34.png)  \n",
    "Based on the results, the genus is Pseudomonas."
   ]
  },
  {
   "cell_type": "markdown",
   "metadata": {},
   "source": [
    "### Genome annotation:  \n",
    "\n",
    "**BASys:** \n",
    "![BaSys](https://image.ibb.co/jSFDiA/basys-result.png)\n"
   ]
  },
  {
   "cell_type": "markdown",
   "metadata": {},
   "source": [
    "**RAST:**  \n",
    "![RAST1](https://image.ibb.co/mmce6V/RAST-result1.png)\n",
    "![RAST2](https://image.ibb.co/dSegLq/RAST-result2.png)"
   ]
  },
  {
   "cell_type": "markdown",
   "metadata": {},
   "source": [
    "### Research and write-up:  \n",
    "\n",
    "Pseudomonas spp. are Gram negative bacteria. They contain an outer membrane and an inner membrane with the periplasmic space in the middle. On the surface of outer membrane, there are lipopolysaccharides, lipoproteins, and water protein channels or porins. The presence of these molecular compounds is aligned with the genomic annotation results performed by RAST. Particularly, there are several genes encoding key enzymes related to the production and metabolism of membrane compounds, such as  \n",
    "1. dTDP-rhamnose synthesis:  \n",
    "+ dTDP-4-dehydrorhamnose 3,5-epimerase (EC 5.1.3.13)  \n",
    "+ Glucose-1-phosphate thymidylyltransferase (EC 2.7.7.24)  \n",
    "2. Exopolysaccharide Biosynthesis:  \n",
    "+ Glycosyl transferase, group 1 family protein  \n",
    "+ Capsular polysaccharide synthesis enzyme CpsA, sugar transferase  \n",
    "Pseudomonas spp. are known to resist to the antibiotic fluoroquinolones (FQs). Studies show that the FQ resistance can be explained in two different mechanisms. First, the FQ resistant Pseudomonas has mutations in the target genes encoding two enyzmes, including DNA gyrase and topoisomerase IV. These two enzymes play essential roles in Pseudomonas DNA replication. The RAST analysis shows that enzyme DNA gyrase is consisted of two subunits, A and B, encoded by two genes. Similarly, there are two genes encoding two subunits for topoisomerase IV (see Exhibition 1). The second mechanim of antibiotic resistance in Pseudomonas spp. is involved the mutations affecting the antibiotics pumps, which are responsible for drug efflux. Particularly, Exhibition 1 shows several genes identified from RAST annotation, including  \n",
    "+ Multi antimicrobial extrusion protein (Na(+)/drug antiporter), MATE family of MDR efflux pumps  \n",
    "+ Multidrug and toxin extrusion (MATE) family efflux pump YdhE/NorM, homolog  \n",
    "+ Macrolide-specific efflux protein MacA  \n",
    "The mutations on these efflux pumps make Pseudomonas to be resistant to many different antibiotics, such as tetracycline and chloramphenicol. In addition, the bacteria are also resistant to a class of beta-lactam antibiotic including penicillin since the analysis shows that Pseudomonas has gene encoding beta-lactamase.   \n",
    " \n",
    "**Exhibition 1:** Genes related to virulence, disease, and defence in Pseudomonas spp., annotated by RAST.  \n",
    "![Exhibition1](https://image.ibb.co/gBZ1mV/Exhibition1.png)  \n",
    "\n",
    "**References:**  \n",
    "1. Jalal, Shah, Oana Ciofu, Niels Høiby, Naomasa Gotoh, and Bengt Wretlind. \"Molecular mechanisms of fluoroquinolone resistance in Pseudomonas aeruginosa isolates from cystic fibrosis patients.\" Antimicrobial agents and chemotherapy 44, no. 3 (2000): 710-712.  \n",
    "2. Palleroni, Norberto J. \"Pseudomonas.\" Bergey's Manual of Systematics of Archaea and Bacteria (2015): 1-1.  "
   ]
  },
  {
   "cell_type": "code",
   "execution_count": null,
   "metadata": {},
   "outputs": [],
   "source": []
  }
 ],
 "metadata": {
  "kernelspec": {
   "display_name": "Python 3",
   "language": "python",
   "name": "python3"
  },
  "language_info": {
   "codemirror_mode": {
    "name": "ipython",
    "version": 3
   },
   "file_extension": ".py",
   "mimetype": "text/x-python",
   "name": "python",
   "nbconvert_exporter": "python",
   "pygments_lexer": "ipython3",
   "version": "3.6.5"
  }
 },
 "nbformat": 4,
 "nbformat_minor": 2
}
